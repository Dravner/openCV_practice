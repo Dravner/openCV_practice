{
 "cells": [
  {
   "cell_type": "code",
   "execution_count": 118,
   "id": "cada798f",
   "metadata": {},
   "outputs": [],
   "source": [
    "import cv2\n",
    "import numpy as np\n",
    "import matplotlib.pyplot as plt"
   ]
  },
  {
   "cell_type": "code",
   "execution_count": 119,
   "id": "c6649526",
   "metadata": {},
   "outputs": [],
   "source": [
    "orig = cv2.imread('images/1.png')"
   ]
  },
  {
   "cell_type": "code",
   "execution_count": 120,
   "id": "e074995a-8871-4f73-849b-c91c6faacdf1",
   "metadata": {},
   "outputs": [],
   "source": [
    "orig = cv2.resize(orig, (orig.shape[0] // 3 * 2, orig.shape[1] // 4))"
   ]
  },
  {
   "cell_type": "code",
   "execution_count": 121,
   "id": "2ac7bf3e-a647-44e3-a6b4-87d0c5dfbb8b",
   "metadata": {},
   "outputs": [],
   "source": [
    "new_img = np.zeros(orig.shape, dtype = 'uint8')"
   ]
  },
  {
   "cell_type": "code",
   "execution_count": 122,
   "id": "273e9287-c117-49dd-915c-404c196d9279",
   "metadata": {},
   "outputs": [],
   "source": [
    "# blur = cv2.GaussianBlur(orig, (5, 5), cv2.BORDER_DEFAULT, cv2.CHAIN_APPROX_NONE)"
   ]
  },
  {
   "cell_type": "code",
   "execution_count": 123,
   "id": "2e1d378f-49f3-4276-80ef-06c3317c116a",
   "metadata": {},
   "outputs": [],
   "source": [
    "gray = cv2.cvtColor(orig, cv2.COLOR_BGR2GRAY)"
   ]
  },
  {
   "cell_type": "code",
   "execution_count": 124,
   "id": "03ae72fb",
   "metadata": {},
   "outputs": [],
   "source": [
    "edg = cv2.Canny(gray, 100, 140)\n",
    "\n",
    "con, hir = cv2.findContours(edg, cv2.RETR_LIST, cv2.CHAIN_APPROX_NONE)\n",
    "\n",
    "# kernel = np.ones((3, 3), np.uint8)\n",
    "# edg = cv2.dilate(edg, kernel, iterations = 1)\n",
    "# # edg = cv2.erode(edg, kernel, iterations = 1)"
   ]
  },
  {
   "cell_type": "code",
   "execution_count": 125,
   "id": "3327e6b2-dd91-4f44-bead-baf5f02cab5e",
   "metadata": {
    "scrolled": true
   },
   "outputs": [
    {
     "data": {
      "text/plain": [
       "array([[[0, 0, 0],\n",
       "        [0, 0, 0],\n",
       "        [0, 0, 0],\n",
       "        ...,\n",
       "        [0, 0, 0],\n",
       "        [0, 0, 0],\n",
       "        [0, 0, 0]],\n",
       "\n",
       "       [[0, 0, 0],\n",
       "        [0, 0, 0],\n",
       "        [0, 0, 0],\n",
       "        ...,\n",
       "        [0, 0, 0],\n",
       "        [0, 0, 0],\n",
       "        [0, 0, 0]],\n",
       "\n",
       "       [[0, 0, 0],\n",
       "        [0, 0, 0],\n",
       "        [0, 0, 0],\n",
       "        ...,\n",
       "        [0, 0, 0],\n",
       "        [0, 0, 0],\n",
       "        [0, 0, 0]],\n",
       "\n",
       "       ...,\n",
       "\n",
       "       [[0, 0, 0],\n",
       "        [0, 0, 0],\n",
       "        [0, 0, 0],\n",
       "        ...,\n",
       "        [0, 0, 0],\n",
       "        [0, 0, 0],\n",
       "        [0, 0, 0]],\n",
       "\n",
       "       [[0, 0, 0],\n",
       "        [0, 0, 0],\n",
       "        [0, 0, 0],\n",
       "        ...,\n",
       "        [0, 0, 0],\n",
       "        [0, 0, 0],\n",
       "        [0, 0, 0]],\n",
       "\n",
       "       [[0, 0, 0],\n",
       "        [0, 0, 0],\n",
       "        [0, 0, 0],\n",
       "        ...,\n",
       "        [0, 0, 0],\n",
       "        [0, 0, 0],\n",
       "        [0, 0, 0]]], dtype=uint8)"
      ]
     },
     "execution_count": 125,
     "metadata": {},
     "output_type": "execute_result"
    }
   ],
   "source": [
    "cv2.drawContours(new_img, con, -1, (0, 0, 255), 1)"
   ]
  },
  {
   "cell_type": "code",
   "execution_count": 126,
   "id": "2e46f918-eee1-4bc4-9627-28fa74bdd7b4",
   "metadata": {},
   "outputs": [],
   "source": [
    "cv2.imshow('Original', orig)\n",
    "cv2.imshow('new image', new_img)\n",
    "cv2.imshow('Edges', edg)\n",
    "cv2.waitKey(0)\n",
    "cv2.destroyAllWindows()"
   ]
  },
  {
   "cell_type": "code",
   "execution_count": null,
   "id": "379a5751-b5a9-4ef2-bf32-100117295701",
   "metadata": {},
   "outputs": [],
   "source": []
  },
  {
   "cell_type": "code",
   "execution_count": null,
   "id": "f50500e4-1515-4a86-bbbb-01a609a581ee",
   "metadata": {},
   "outputs": [],
   "source": []
  },
  {
   "cell_type": "code",
   "execution_count": null,
   "id": "f0d7f661-2617-49cb-9677-822e5cf377d2",
   "metadata": {},
   "outputs": [],
   "source": []
  }
 ],
 "metadata": {
  "kernelspec": {
   "display_name": "Python 3.11",
   "language": "python",
   "name": "python311"
  },
  "language_info": {
   "codemirror_mode": {
    "name": "ipython",
    "version": 3
   },
   "file_extension": ".py",
   "mimetype": "text/x-python",
   "name": "python",
   "nbconvert_exporter": "python",
   "pygments_lexer": "ipython3",
   "version": "3.11.3"
  }
 },
 "nbformat": 4,
 "nbformat_minor": 5
}
