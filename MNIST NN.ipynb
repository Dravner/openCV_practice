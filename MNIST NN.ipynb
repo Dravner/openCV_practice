{
 "cells": [
  {
   "cell_type": "code",
   "execution_count": 24,
   "id": "e07ebfca-640b-4620-a09b-d5a82b43675b",
   "metadata": {},
   "outputs": [],
   "source": [
    "import cv2\n",
    "import numpy as np\n",
    "import tensorflow as tf\n",
    "from tensorflow.keras import layers, models\n",
    "from tensorflow.keras.datasets import mnist"
   ]
  },
  {
   "cell_type": "code",
   "execution_count": 25,
   "id": "d9155056-6bf6-429e-a866-9dfe2fc0f1f1",
   "metadata": {},
   "outputs": [],
   "source": [
    "(train_images, train_labels), (test_images, test_labels) = mnist.load_data()"
   ]
  },
  {
   "cell_type": "code",
   "execution_count": 26,
   "id": "82edb2ff-e273-4c72-b2a1-3d0819f8379d",
   "metadata": {},
   "outputs": [],
   "source": [
    "train_images = train_images / 255.0\n",
    "test_images = test_images / 255.0"
   ]
  },
  {
   "cell_type": "code",
   "execution_count": 27,
   "id": "056ddd57-b487-4dc0-a67c-3dfc909f93fa",
   "metadata": {},
   "outputs": [],
   "source": [
    "model = models.Sequential([\n",
    "    layers.Flatten(input_shape=(28, 28)),  # Входной слой (плоский)\n",
    "    layers.Dense(128, activation='relu'),   # Полносвязный слой с 128 нейронами и функцией активации ReLU\n",
    "    layers.Dense(10, activation='softmax')  # Выходной слой с 10 нейронами (10 классов) и функцией активации softmax\n",
    "])"
   ]
  },
  {
   "cell_type": "code",
   "execution_count": 28,
   "id": "fac88cd4-1b14-4dc0-ab49-d707447fa5b4",
   "metadata": {},
   "outputs": [],
   "source": [
    "model.compile(optimizer='adam',\n",
    "              loss='sparse_categorical_crossentropy', \n",
    "              metrics=['accuracy']) "
   ]
  },
  {
   "cell_type": "code",
   "execution_count": 29,
   "id": "1ead8e1a-8a81-4994-8d23-c73aa0d1325f",
   "metadata": {},
   "outputs": [
    {
     "name": "stdout",
     "output_type": "stream",
     "text": [
      "Epoch 1/5\n",
      "1875/1875 [==============================] - 4s 2ms/step - loss: 0.2602 - accuracy: 0.9255\n",
      "Epoch 2/5\n",
      "1875/1875 [==============================] - 5s 3ms/step - loss: 0.1150 - accuracy: 0.9666\n",
      "Epoch 3/5\n",
      "1875/1875 [==============================] - 5s 2ms/step - loss: 0.0777 - accuracy: 0.9764\n",
      "Epoch 4/5\n",
      "1875/1875 [==============================] - 4s 2ms/step - loss: 0.0579 - accuracy: 0.9823\n",
      "Epoch 5/5\n",
      "1875/1875 [==============================] - 4s 2ms/step - loss: 0.0460 - accuracy: 0.9856\n"
     ]
    },
    {
     "data": {
      "text/plain": [
       "<keras.src.callbacks.History at 0x1773e2d88d0>"
      ]
     },
     "execution_count": 29,
     "metadata": {},
     "output_type": "execute_result"
    }
   ],
   "source": [
    "model.fit(train_images, train_labels, epochs=5)"
   ]
  },
  {
   "cell_type": "code",
   "execution_count": 30,
   "id": "5b6d5b6d-f5c6-454a-ab69-771a1e0b6467",
   "metadata": {},
   "outputs": [
    {
     "name": "stdout",
     "output_type": "stream",
     "text": [
      "313/313 [==============================] - 1s 1ms/step - loss: 0.0739 - accuracy: 0.9777\n",
      "Точность на тестовом наборе данных: 0.9776999950408936\n"
     ]
    }
   ],
   "source": [
    "test_loss, test_acc = model.evaluate(test_images, test_labels)\n",
    "print(f\"Точность на тестовом наборе данных: {test_acc}\")"
   ]
  },
  {
   "cell_type": "code",
   "execution_count": null,
   "id": "537986da-5cae-40cd-a12c-123e979d8826",
   "metadata": {},
   "outputs": [],
   "source": []
  },
  {
   "cell_type": "code",
   "execution_count": null,
   "id": "1e8ca3a1-5273-4da1-9e38-630217e93ea6",
   "metadata": {},
   "outputs": [],
   "source": []
  },
  {
   "cell_type": "code",
   "execution_count": 51,
   "id": "a8ebc98d-0aa7-48d1-a6f3-4a3d0e663029",
   "metadata": {},
   "outputs": [
    {
     "name": "stdout",
     "output_type": "stream",
     "text": [
      "1/1 [==============================] - 0s 27ms/step\n",
      "Предсказанный класс: 4\n"
     ]
    }
   ],
   "source": [
    "# Считывание изображения\n",
    "img = cv2.imread('images/4.png')\n",
    "\n",
    "# Инвертирование цветов (если необходимо)\n",
    "inverted_img = 255 - img\n",
    "\n",
    "# Преобразование в оттенки серого (grayscale)\n",
    "gray_img = cv2.cvtColor(inverted_img, cv2.COLOR_BGR2GRAY)\n",
    "\n",
    "# Изменение размера до 28x28\n",
    "resized_img = cv2.resize(gray_img, (28, 28))\n",
    "\n",
    "# Преобразование в одномерный массив длиной 784\n",
    "image_array = resized_img.reshape(1, 28, 28)\n",
    "\n",
    "# Предсказание класса\n",
    "predictions = model.predict(image_array)\n",
    "\n",
    "# Получение индекса класса с наибольшей вероятностью\n",
    "predicted_class = np.argmax(predictions)\n",
    "\n",
    "print(f\"Предсказанный класс: {predicted_class}\")"
   ]
  },
  {
   "cell_type": "code",
   "execution_count": null,
   "id": "995c7d9e-a6f5-4f40-9801-8499058e486a",
   "metadata": {},
   "outputs": [],
   "source": []
  },
  {
   "cell_type": "code",
   "execution_count": null,
   "id": "7a12c28d-9531-4c46-b9bf-7de0e75511e2",
   "metadata": {},
   "outputs": [],
   "source": []
  },
  {
   "cell_type": "code",
   "execution_count": null,
   "id": "343e5db1-1460-4645-b153-c21ea04a67b6",
   "metadata": {},
   "outputs": [],
   "source": []
  }
 ],
 "metadata": {
  "kernelspec": {
   "display_name": "Python 3 (ipykernel)",
   "language": "python",
   "name": "python3"
  },
  "language_info": {
   "codemirror_mode": {
    "name": "ipython",
    "version": 3
   },
   "file_extension": ".py",
   "mimetype": "text/x-python",
   "name": "python",
   "nbconvert_exporter": "python",
   "pygments_lexer": "ipython3",
   "version": "3.11.3"
  }
 },
 "nbformat": 4,
 "nbformat_minor": 5
}
