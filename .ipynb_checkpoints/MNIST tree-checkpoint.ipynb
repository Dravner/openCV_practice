{
 "cells": [
  {
   "cell_type": "code",
   "execution_count": 1,
   "id": "40decf18-39a6-4281-9855-dc99134b9f30",
   "metadata": {},
   "outputs": [],
   "source": [
    "from keras.datasets import mnist\n",
    "import pandas as pd\n",
    "import numpy as np\n",
    "import matplotlib.pyplot as plt\n",
    "import seaborn as sns\n",
    "import sklearn\n",
    "from sklearn.model_selection import train_test_split\n",
    "from sklearn.model_selection import cross_val_score\n",
    "from sklearn.model_selection import GridSearchCV\n",
    "from sklearn.metrics import precision_score, recall_score, f1_score\n",
    "from sklearn.ensemble import RandomForestClassifier\n",
    "import cv2"
   ]
  },
  {
   "cell_type": "code",
   "execution_count": 2,
   "id": "ecb7c0a0-ed29-474b-94f8-c525b90f55e7",
   "metadata": {},
   "outputs": [],
   "source": [
    "(x_train, y_train), (x_test, y_test) = mnist.load_data()"
   ]
  },
  {
   "cell_type": "code",
   "execution_count": 3,
   "id": "901a6b97-8043-40e0-9cdb-5769d94d6073",
   "metadata": {},
   "outputs": [],
   "source": [
    "x_train = x_train.reshape(x_train.shape[0], -1)\n",
    "X_test = x_test.reshape(x_test.shape[0], -1)"
   ]
  },
  {
   "cell_type": "code",
   "execution_count": 4,
   "id": "3d9106af-72e2-41ea-9a18-932a010e3913",
   "metadata": {},
   "outputs": [],
   "source": [
    "clf = RandomForestClassifier(random_state=0)"
   ]
  },
  {
   "cell_type": "code",
   "execution_count": null,
   "id": "ed33d8d1-d6b5-47f5-ac4f-eed5cc48d358",
   "metadata": {},
   "outputs": [],
   "source": [
    "params = {\n",
    "    'n_estimators':range(1,15,1),\n",
    "    'max_depth':range(10,80,2)}"
   ]
  },
  {
   "cell_type": "code",
   "execution_count": null,
   "id": "8c4e8785-2958-4a32-8ada-3a361cfbe82a",
   "metadata": {},
   "outputs": [],
   "source": [
    "gr = GridSearchCV(clf, params, cv = 3, n_jobs=-1, verbose=2)"
   ]
  },
  {
   "cell_type": "code",
   "execution_count": null,
   "id": "8a6c4201-93fd-4c34-b33e-05e23a8c552a",
   "metadata": {},
   "outputs": [],
   "source": [
    "gr.fit(x_train, y_train)"
   ]
  },
  {
   "cell_type": "code",
   "execution_count": null,
   "id": "ffada30b-60e6-4b0c-812e-8fb788cc4522",
   "metadata": {},
   "outputs": [],
   "source": [
    "best_clf = gr.best_estimator_"
   ]
  },
  {
   "cell_type": "code",
   "execution_count": null,
   "id": "e71c23e4-75ec-4639-8780-fd3dce61d57a",
   "metadata": {},
   "outputs": [],
   "source": [
    "y_pred = best_clf.predict(X_test)"
   ]
  },
  {
   "cell_type": "code",
   "execution_count": null,
   "id": "55711caa-3ea8-4076-84b3-c5e333f969b3",
   "metadata": {},
   "outputs": [],
   "source": [
    "precision_macro = precision_score(y_test, y_pred, average='macro')\n",
    "print(\"Macro-Averaged Precision:\", precision_macro)\n",
    "precision_micro = precision_score(y_test, y_pred, average='micro')\n",
    "print(\"Micro-Averaged Precision:\", precision_micro)\n",
    "precision_weighted = precision_score(y_test, y_pred, average='weighted')\n",
    "print(\"Weighted Precision:\", precision_weighted)"
   ]
  },
  {
   "cell_type": "code",
   "execution_count": null,
   "id": "a7fb1994-90a4-42a0-bf5c-b24ce2c09f29",
   "metadata": {},
   "outputs": [],
   "source": []
  },
  {
   "cell_type": "code",
   "execution_count": null,
   "id": "ae7281af-0f64-4dc7-bdae-c1f8afa84064",
   "metadata": {},
   "outputs": [],
   "source": [
    "img = cv2.imread('images/0.png')\n",
    "img = 255 - img\n",
    "img = cv2.cvtColor(img, cv2.COLOR_BGR2GRAY)\n",
    "img = cv2.resize(img, (28, 28))\n",
    "img = img.reshape(1, -1)"
   ]
  },
  {
   "cell_type": "code",
   "execution_count": null,
   "id": "da665f2e-32ad-451b-be50-211807be39a9",
   "metadata": {},
   "outputs": [],
   "source": [
    "prediction = best_clf.predict(img)\n",
    "print(\"Predicted Class:\", prediction)"
   ]
  },
  {
   "cell_type": "code",
   "execution_count": null,
   "id": "84aa1303-0d54-466c-a39f-551076639674",
   "metadata": {},
   "outputs": [],
   "source": []
  },
  {
   "cell_type": "code",
   "execution_count": null,
   "id": "6998dd3e-c01e-4e05-9485-956fb65d64bd",
   "metadata": {},
   "outputs": [],
   "source": []
  },
  {
   "cell_type": "code",
   "execution_count": null,
   "id": "43a5e5f3-b7c7-417d-81cf-2c9a56fc9c06",
   "metadata": {},
   "outputs": [],
   "source": []
  },
  {
   "cell_type": "code",
   "execution_count": null,
   "id": "b82b52d1-8b3e-4539-aa0c-58dd9954de01",
   "metadata": {},
   "outputs": [],
   "source": []
  }
 ],
 "metadata": {
  "kernelspec": {
   "display_name": "Python 3 (ipykernel)",
   "language": "python",
   "name": "python3"
  },
  "language_info": {
   "codemirror_mode": {
    "name": "ipython",
    "version": 3
   },
   "file_extension": ".py",
   "mimetype": "text/x-python",
   "name": "python",
   "nbconvert_exporter": "python",
   "pygments_lexer": "ipython3",
   "version": "3.11.3"
  }
 },
 "nbformat": 4,
 "nbformat_minor": 5
}
