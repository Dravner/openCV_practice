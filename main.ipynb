{
 "cells": [
  {
   "cell_type": "code",
   "execution_count": 1,
   "id": "2cf19e14-e3d8-4704-aad0-92094b055915",
   "metadata": {},
   "outputs": [],
   "source": [
    "import cv2"
   ]
  },
  {
   "cell_type": "code",
   "execution_count": null,
   "id": "27e32a0a-80b7-494a-ac49-0392bc62d09e",
   "metadata": {},
   "outputs": [],
   "source": [
    "img = cv2.imread('')\n",
    "gray = cv2.cvtColor(img, cv2.COLOR_BGR2GRAY)"
   ]
  },
  {
   "cell_type": "code",
   "execution_count": null,
   "id": "7cdf077d-a061-497c-927d-cae06ccd99e9",
   "metadata": {},
   "outputs": [],
   "source": [
    "model = cv2.CascadeClassifier('')"
   ]
  },
  {
   "cell_type": "code",
   "execution_count": null,
   "id": "864a351c-b556-4fb0-ae54-d439b696222a",
   "metadata": {},
   "outputs": [],
   "source": [
    "results = model.detectMultiScale(gray, scaleFactor = 2, minNeighbours = 0)"
   ]
  },
  {
   "cell_type": "code",
   "execution_count": 2,
   "id": "b61220a4-a9a7-44de-97c3-b7c56e6418dc",
   "metadata": {
    "scrolled": true
   },
   "outputs": [
    {
     "ename": "SyntaxError",
     "evalue": "invalid syntax (1021348251.py, line 1)",
     "output_type": "error",
     "traceback": [
      "\u001b[1;36m  Cell \u001b[1;32mIn[2], line 1\u001b[1;36m\u001b[0m\n\u001b[1;33m    for (x, y, w, h):\u001b[0m\n\u001b[1;37m                    ^\u001b[0m\n\u001b[1;31mSyntaxError\u001b[0m\u001b[1;31m:\u001b[0m invalid syntax\n"
     ]
    }
   ],
   "source": [
    "for (x, y, w, h) in results:\n",
    "    cv2.rectangle(img, (x, y), (x + w, y + h), (0, 255, 0), thikness = 3)"
   ]
  },
  {
   "cell_type": "code",
   "execution_count": null,
   "id": "fc4c7b9c-a775-49e2-a0b1-2ac77ed03cfd",
   "metadata": {},
   "outputs": [],
   "source": [
    "cv2.imshow(\"Result\", img)\n",
    "cv2.waitKey(0)"
   ]
  }
 ],
 "metadata": {
  "kernelspec": {
   "display_name": "Python 3.11",
   "language": "python",
   "name": "python311"
  },
  "language_info": {
   "codemirror_mode": {
    "name": "ipython",
    "version": 3
   },
   "file_extension": ".py",
   "mimetype": "text/x-python",
   "name": "python",
   "nbconvert_exporter": "python",
   "pygments_lexer": "ipython3",
   "version": "3.11.3"
  }
 },
 "nbformat": 4,
 "nbformat_minor": 5
}
